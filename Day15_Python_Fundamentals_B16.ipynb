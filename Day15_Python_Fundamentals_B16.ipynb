{
 "cells": [
  {
   "cell_type": "code",
   "execution_count": 1,
   "metadata": {},
   "outputs": [],
   "source": [
    "#Introduction to python class"
   ]
  },
  {
   "cell_type": "code",
   "execution_count": 2,
   "metadata": {},
   "outputs": [],
   "source": [
    "#requirement :\n",
    "#1.Takae name from user as input\n",
    "#2.Display username\n",
    "#3.Greet user"
   ]
  },
  {
   "cell_type": "code",
   "execution_count": 5,
   "metadata": {},
   "outputs": [],
   "source": [
    "class Test :\n",
    "    def create_usernsme(self,name):\n",
    "        self.name=name\n",
    "    def display_username(self):\n",
    "        return self.name\n",
    "    def Greet_user(self):\n",
    "        print(f'welcome to Class in Python {self.name}')\n",
    "        "
   ]
  },
  {
   "cell_type": "code",
   "execution_count": 8,
   "metadata": {},
   "outputs": [],
   "source": [
    "call =Test()\n",
    "call.create_usernsme('Harshini')"
   ]
  },
  {
   "cell_type": "code",
   "execution_count": 9,
   "metadata": {},
   "outputs": [
    {
     "data": {
      "text/plain": [
       "'Harshini'"
      ]
     },
     "execution_count": 9,
     "metadata": {},
     "output_type": "execute_result"
    }
   ],
   "source": [
    "call.display_username()"
   ]
  },
  {
   "cell_type": "code",
   "execution_count": 10,
   "metadata": {},
   "outputs": [
    {
     "name": "stdout",
     "output_type": "stream",
     "text": [
      "welcome to Class in Python Harshini\n"
     ]
    }
   ],
   "source": [
    "call.Greet_user()"
   ]
  },
  {
   "cell_type": "code",
   "execution_count": 11,
   "metadata": {},
   "outputs": [],
   "source": [
    "#Method : A function inside a class is called Method\n",
    "#Attribute : It is a variable inside a class\n",
    "#Self: It is a temporary placeholder for an object\n",
    "#Class : It is a highlevel blueprint of the program\n",
    "#Object : It is used to access method inside a class"
   ]
  },
  {
   "cell_type": "code",
   "execution_count": 32,
   "metadata": {},
   "outputs": [],
   "source": [
    "class Shopping:\n",
    "    def dress_model(self,dress):\n",
    "        self.dress = print(f\"I would like to buy a beautiful\",dress)\n",
    "        \n",
    "    def dress_material(self,material):\n",
    "        self.material = print(f\"{self.dress} should be made of\",material)\n",
    "       \n",
    "    \n",
    "    def dress_color(self):\n",
    "        print(f\"Preferably in pestal colours\")"
   ]
  },
  {
   "cell_type": "code",
   "execution_count": 33,
   "metadata": {},
   "outputs": [
    {
     "name": "stdout",
     "output_type": "stream",
     "text": [
      "I would like to buy a beautiful saree\n",
      "None should be made of Cotton\n",
      "Preferably in pestal colours\n"
     ]
    }
   ],
   "source": [
    "dress_details = Shopping()\n",
    "dress_details.dress_model('saree')\n",
    "dress_details.dress_material('Cotton')\n",
    "dress_details.dress_color()"
   ]
  },
  {
   "cell_type": "code",
   "execution_count": null,
   "metadata": {},
   "outputs": [],
   "source": []
  }
 ],
 "metadata": {
  "kernelspec": {
   "display_name": "Python 3",
   "language": "python",
   "name": "python3"
  },
  "language_info": {
   "codemirror_mode": {
    "name": "ipython",
    "version": 3
   },
   "file_extension": ".py",
   "mimetype": "text/x-python",
   "name": "python",
   "nbconvert_exporter": "python",
   "pygments_lexer": "ipython3",
   "version": "3.7.6"
  }
 },
 "nbformat": 4,
 "nbformat_minor": 4
}
