{
 "cells": [
  {
   "cell_type": "code",
   "execution_count": 1,
   "metadata": {},
   "outputs": [
    {
     "name": "stdout",
     "output_type": "stream",
     "text": [
      "{'username': 'codetraining', 'password': 'qwerty', 'f_name': 'code', 'l_name': 'training', 'DOB': '09-09-09'}\n"
     ]
    }
   ],
   "source": [
    "user_account = {'username':'codetraining','password':'qwerty','f_name':'code','l_name':'training','DOB':'09-09-09'}\n",
    "\n",
    "print(user_account)"
   ]
  },
  {
   "cell_type": "code",
   "execution_count": 2,
   "metadata": {},
   "outputs": [
    {
     "name": "stdout",
     "output_type": "stream",
     "text": [
      "{'username': 'codetraining', 'password': 'qwerty', 'f_name': 'code', 'l_name': 'training', 'DOB': '09-09-09', 'mobile': 123456}\n"
     ]
    }
   ],
   "source": [
    "user_account['mobile']= 123456\n",
    "\n",
    "print(user_account)"
   ]
  },
  {
   "cell_type": "code",
   "execution_count": 4,
   "metadata": {},
   "outputs": [
    {
     "name": "stdout",
     "output_type": "stream",
     "text": [
      "{'username': 'codetraining', 'password': 'qwerty', 'f_name': 'code', 'l_name': 'training', 'DOB': '09-09-09', 'mobile': 123456, 'country': 'India'}\n"
     ]
    }
   ],
   "source": [
    "user_account['country']='India'\n",
    "\n",
    "print(user_account)"
   ]
  },
  {
   "cell_type": "code",
   "execution_count": 5,
   "metadata": {},
   "outputs": [
    {
     "name": "stdout",
     "output_type": "stream",
     "text": [
      "{'username': 'codetraining', 'password': 'qwerty', 'f_name': 'code', 'l_name': 'training', 'mobile': 123456, 'country': 'India'}\n"
     ]
    }
   ],
   "source": [
    "del user_account['DOB']\n",
    "\n",
    "print(user_account)"
   ]
  },
  {
   "cell_type": "code",
   "execution_count": 6,
   "metadata": {},
   "outputs": [
    {
     "name": "stdout",
     "output_type": "stream",
     "text": [
      "{'username': 'codetraining', 'password': 'qwerty', 'f_name': 'code', 'l_name': 'training', 'country': 'India'}\n"
     ]
    }
   ],
   "source": [
    "user_account.pop('mobile')\n",
    "\n",
    "print(user_account)"
   ]
  },
  {
   "cell_type": "code",
   "execution_count": 7,
   "metadata": {},
   "outputs": [
    {
     "ename": "TypeError",
     "evalue": "pop expected at least 1 arguments, got 0",
     "output_type": "error",
     "traceback": [
      "\u001b[1;31m---------------------------------------------------------------------------\u001b[0m",
      "\u001b[1;31mTypeError\u001b[0m                                 Traceback (most recent call last)",
      "\u001b[1;32m<ipython-input-7-d838dbdb7164>\u001b[0m in \u001b[0;36m<module>\u001b[1;34m\u001b[0m\n\u001b[1;32m----> 1\u001b[1;33m \u001b[0muser_account\u001b[0m\u001b[1;33m.\u001b[0m\u001b[0mpop\u001b[0m\u001b[1;33m(\u001b[0m\u001b[1;33m)\u001b[0m\u001b[1;33m\u001b[0m\u001b[1;33m\u001b[0m\u001b[0m\n\u001b[0m",
      "\u001b[1;31mTypeError\u001b[0m: pop expected at least 1 arguments, got 0"
     ]
    }
   ],
   "source": [
    "user_account.pop()"
   ]
  },
  {
   "cell_type": "code",
   "execution_count": null,
   "metadata": {},
   "outputs": [],
   "source": [
    "#For loop implementation in a dictionary"
   ]
  },
  {
   "cell_type": "code",
   "execution_count": 8,
   "metadata": {},
   "outputs": [
    {
     "name": "stdout",
     "output_type": "stream",
     "text": [
      "{'username': 'codetraining', 'password': 'qwerty', 'f_name': 'code', 'l_name': 'training', 'country': 'India'}\n"
     ]
    }
   ],
   "source": [
    "print(user_account)"
   ]
  },
  {
   "cell_type": "code",
   "execution_count": 9,
   "metadata": {},
   "outputs": [
    {
     "name": "stdout",
     "output_type": "stream",
     "text": [
      "username\n",
      "password\n",
      "f_name\n",
      "l_name\n",
      "country\n"
     ]
    }
   ],
   "source": [
    "for x,y in user_account.items():\n",
    "    print(x)"
   ]
  },
  {
   "cell_type": "code",
   "execution_count": 10,
   "metadata": {},
   "outputs": [
    {
     "name": "stdout",
     "output_type": "stream",
     "text": [
      "codetraining\n",
      "qwerty\n",
      "code\n",
      "training\n",
      "India\n"
     ]
    }
   ],
   "source": [
    "for x,y in user_account.items():\n",
    "    print(y)"
   ]
  },
  {
   "cell_type": "code",
   "execution_count": 11,
   "metadata": {},
   "outputs": [
    {
     "name": "stdout",
     "output_type": "stream",
     "text": [
      "username\n",
      "codetraining\n",
      "password\n",
      "qwerty\n",
      "f_name\n",
      "code\n",
      "l_name\n",
      "training\n",
      "country\n",
      "India\n"
     ]
    }
   ],
   "source": [
    "for x,y in user_account.items():\n",
    "    print(x)\n",
    "    print(y)"
   ]
  },
  {
   "cell_type": "code",
   "execution_count": 12,
   "metadata": {},
   "outputs": [
    {
     "name": "stdout",
     "output_type": "stream",
     "text": [
      "('username', 'codetraining')\n",
      "('password', 'qwerty')\n",
      "('f_name', 'code')\n",
      "('l_name', 'training')\n",
      "('country', 'India')\n"
     ]
    }
   ],
   "source": [
    "for x in user_account.items():\n",
    "    print(x)"
   ]
  },
  {
   "cell_type": "code",
   "execution_count": null,
   "metadata": {},
   "outputs": [],
   "source": []
  },
  {
   "cell_type": "code",
   "execution_count": null,
   "metadata": {},
   "outputs": [],
   "source": []
  },
  {
   "cell_type": "code",
   "execution_count": null,
   "metadata": {},
   "outputs": [],
   "source": []
  },
  {
   "cell_type": "code",
   "execution_count": null,
   "metadata": {},
   "outputs": [],
   "source": []
  }
 ],
 "metadata": {
  "kernelspec": {
   "display_name": "Python 3",
   "language": "python",
   "name": "python3"
  },
  "language_info": {
   "codemirror_mode": {
    "name": "ipython",
    "version": 3
   },
   "file_extension": ".py",
   "mimetype": "text/x-python",
   "name": "python",
   "nbconvert_exporter": "python",
   "pygments_lexer": "ipython3",
   "version": "3.7.6"
  }
 },
 "nbformat": 4,
 "nbformat_minor": 4
}
