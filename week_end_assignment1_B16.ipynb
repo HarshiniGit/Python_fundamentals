{
 "cells": [
  {
   "cell_type": "code",
   "execution_count": 1,
   "metadata": {},
   "outputs": [],
   "source": [
    "#Activity - 1\n",
    "\n",
    "# Defining a class called Restaurant that shows its name and its cuisine type\n",
    "class Restaurant:\n",
    "    \n",
    "# Defining a constructor  and passing two attributes restaurant_name, cuisine_type\n",
    "    def __init__(self,restaurant_name,cuisine_type):\n",
    "        self.restaurant_name = restaurant_name\n",
    "        self.cuisine_type = cuisine_type\n",
    "\n",
    "        \n",
    "# Defining a method that describes a Restaurant\n",
    "# Printing the information of restaurant name and cuisine name        \n",
    "    def describe_restaurant(self):\n",
    "        print(f'{self.restaurant_name} is the name of Restaurant')\n",
    "        print(\"Below is the list of the Cuisine types available : \\n \")\n",
    "        \n",
    "        \n",
    "#creating the list of cuisine  available      \n",
    "        cuisine = ['Indian','american','spanish','mexican','japanese','chinese','Thai', 'dessert','IceCream']\n",
    "    \n",
    "    \n",
    "#Using the for loop statement to print the list of cuisines\n",
    "        for i in cuisine:\n",
    "            print(i)\n",
    "            \n",
    "            \n",
    "#Defining a method that describe the status(open/close) of the Restaurant\n",
    "#and Printing message indicating that the restaurant is open.          \n",
    "    def open_restaurant(self):\n",
    "        print(f'{self.restaurant_name} Restaurant is open on all days')\n",
    "        \n",
    "        \n",
    "#Creating child class IceCreamStand that is called from parent class\n",
    "class IceCreamStand(Restaurant):\n",
    "    pass"
   ]
  },
  {
   "cell_type": "code",
   "execution_count": 2,
   "metadata": {},
   "outputs": [],
   "source": [
    "#Creating an object restaurant\n",
    "restaurant = Restaurant('Black Orchid','')"
   ]
  },
  {
   "cell_type": "code",
   "execution_count": 3,
   "metadata": {},
   "outputs": [
    {
     "name": "stdout",
     "output_type": "stream",
     "text": [
      "Black Orchid is the name of Restaurant\n",
      "Below is the list of the Cuisine types available : \n",
      " \n",
      "Indian\n",
      "american\n",
      "spanish\n",
      "mexican\n",
      "japanese\n",
      "chinese\n",
      "Thai\n",
      "dessert\n",
      "IceCream\n"
     ]
    }
   ],
   "source": [
    "#calling the method describe_restaurant\n",
    "restaurant.describe_restaurant()"
   ]
  },
  {
   "cell_type": "code",
   "execution_count": 4,
   "metadata": {},
   "outputs": [
    {
     "name": "stdout",
     "output_type": "stream",
     "text": [
      "Black Orchid Restaurant is open on all days\n"
     ]
    }
   ],
   "source": [
    "#calling the method open_restaurant\n",
    "restaurant.open_restaurant()"
   ]
  },
  {
   "cell_type": "code",
   "execution_count": 5,
   "metadata": {},
   "outputs": [],
   "source": [
    "#Activity - 2\n",
    "\n",
    "#Defining a class called IceCreamStand\n",
    "class IceCreamStand:\n",
    "\n",
    "    \n",
    "#Defining a method that describes a IceCream_flavour\n",
    "    def IceCream_flavour(self,flavours):\n",
    "        self.flavours = flavours\n",
    "        \n",
    "        \n",
    "#Printing the different flavours available \n",
    "        print(\"Below are the available flavours of ice cream :\\n\").\n",
    "    \n",
    "#Defining the list of flavours\n",
    "        Flavours = ['mango','chocolate','Anjeer','Kesar','Badam','Black forest','orange','mixed fruit']\n",
    "    \n",
    "#Using the for loop statement to print the list of flavours\n",
    "        for j in Flavours:\n",
    "            print(j)        "
   ]
  },
  {
   "cell_type": "code",
   "execution_count": 6,
   "metadata": {},
   "outputs": [],
   "source": [
    "#Creating an object stand\n",
    "stand = IceCreamStand()"
   ]
  },
  {
   "cell_type": "code",
   "execution_count": 7,
   "metadata": {},
   "outputs": [
    {
     "name": "stdout",
     "output_type": "stream",
     "text": [
      "Below are the available flavours of ice cream :\n",
      "\n",
      "mango\n",
      "chocolate\n",
      "Anjeer\n",
      "Kesar\n",
      "Badam\n",
      "Black forest\n",
      "orange\n",
      "mixed fruit\n"
     ]
    }
   ],
   "source": [
    "#calling the method IceCream_flavour\n",
    "stand.IceCream_flavour('')"
   ]
  },
  {
   "cell_type": "code",
   "execution_count": null,
   "metadata": {},
   "outputs": [],
   "source": []
  }
 ],
 "metadata": {
  "kernelspec": {
   "display_name": "Python 3",
   "language": "python",
   "name": "python3"
  },
  "language_info": {
   "codemirror_mode": {
    "name": "ipython",
    "version": 3
   },
   "file_extension": ".py",
   "mimetype": "text/x-python",
   "name": "python",
   "nbconvert_exporter": "python",
   "pygments_lexer": "ipython3",
   "version": "3.7.6"
  }
 },
 "nbformat": 4,
 "nbformat_minor": 4
}
