{
 "cells": [
  {
   "cell_type": "code",
   "execution_count": 6,
   "metadata": {},
   "outputs": [
    {
     "name": "stdout",
     "output_type": "stream",
     "text": [
      "Mumbai\n",
      "chennai\n",
      "delhi\n",
      "kolkata\n"
     ]
    }
   ],
   "source": [
    "India = ('Mumbai''\\nchennai''\\ndelhi''\\nkolkata')\n",
    "print(India)"
   ]
  },
  {
   "cell_type": "code",
   "execution_count": 10,
   "metadata": {},
   "outputs": [
    {
     "name": "stdout",
     "output_type": "stream",
     "text": [
      "Metropolitan Indian Cities :\n",
      "\tMumbai\n",
      "\tchennai\n",
      "\tdelhi\n",
      "\tkolkata\n"
     ]
    }
   ],
   "source": [
    "India = ('Metropolitan Indian Cities :''\\n\\tMumbai''\\n\\tchennai''\\n\\tdelhi''\\n\\tkolkata')\n",
    "print(India)"
   ]
  },
  {
   "cell_type": "code",
   "execution_count": 11,
   "metadata": {},
   "outputs": [
    {
     "name": "stdout",
     "output_type": "stream",
     "text": [
      "['Mumbai', 'Chennai', 'Delhi', 'Kolkata']\n"
     ]
    }
   ],
   "source": [
    "India1=['Mumbai','Chennai','Delhi','Kolkata']\n",
    "print(India1)"
   ]
  },
  {
   "cell_type": "code",
   "execution_count": null,
   "metadata": {},
   "outputs": [],
   "source": [
    "#Deleting a value from the list"
   ]
  },
  {
   "cell_type": "code",
   "execution_count": 12,
   "metadata": {},
   "outputs": [
    {
     "name": "stdout",
     "output_type": "stream",
     "text": [
      "['Mumbai', 'Chennai', 'Delhi']\n"
     ]
    }
   ],
   "source": [
    "India1.remove('Kolkata')\n",
    "print(India1)"
   ]
  },
  {
   "cell_type": "code",
   "execution_count": null,
   "metadata": {},
   "outputs": [],
   "source": [
    "#Introduction to organising the list"
   ]
  },
  {
   "cell_type": "code",
   "execution_count": 1,
   "metadata": {},
   "outputs": [
    {
     "name": "stdout",
     "output_type": "stream",
     "text": [
      "['Maruthi', 'BMW', 'Audi', 'toyota', 'Honda']\n"
     ]
    }
   ],
   "source": [
    "cars=['Maruthi','BMW','Audi','toyota','Honda']\n",
    "print(cars)"
   ]
  },
  {
   "cell_type": "code",
   "execution_count": null,
   "metadata": {},
   "outputs": [],
   "source": [
    "#sorting the list in a to z order permanantly"
   ]
  },
  {
   "cell_type": "code",
   "execution_count": 2,
   "metadata": {},
   "outputs": [
    {
     "name": "stdout",
     "output_type": "stream",
     "text": [
      "['Audi', 'BMW', 'Honda', 'Maruthi', 'toyota']\n"
     ]
    }
   ],
   "source": [
    "cars.sort()\n",
    "print(cars)"
   ]
  },
  {
   "cell_type": "code",
   "execution_count": 3,
   "metadata": {},
   "outputs": [
    {
     "name": "stdout",
     "output_type": "stream",
     "text": [
      "['Audi', 'Bmw', 'Honda', 'Maruthi', 'benz', 'bmw', 'toyota']\n"
     ]
    }
   ],
   "source": [
    "brand=['Maruthi','Bmw','bmw','benz','Audi','toyota','Honda']\n",
    "brand.sort() #alphabet priority is A,...,Z,a,...,z\n",
    "print(brand)"
   ]
  },
  {
   "cell_type": "code",
   "execution_count": 5,
   "metadata": {},
   "outputs": [
    {
     "name": "stdout",
     "output_type": "stream",
     "text": [
      "['Audi', 'Bmw', 'Honda', 'Maruthi', 'benz', 'bmw', 'toyota']\n",
      "['Maruthi', 'Bmw', 'bmw', 'benz', 'Audi', 'toyota', 'Honda']\n"
     ]
    }
   ],
   "source": [
    "brand=['Maruthi','Bmw','bmw','benz','Audi','toyota','Honda']\n",
    "print(sorted(brand))# Temporary sorting\n",
    "print(brand)"
   ]
  },
  {
   "cell_type": "code",
   "execution_count": null,
   "metadata": {},
   "outputs": [],
   "source": [
    "#Sort is used for \"permanant sorting\" and Sorted is used for \"temporary sorting\""
   ]
  },
  {
   "cell_type": "code",
   "execution_count": 10,
   "metadata": {},
   "outputs": [
    {
     "name": "stdout",
     "output_type": "stream",
     "text": [
      "['Honda', 'toyota', 'Audi', 'benz', 'bmw', 'Bmw', 'Maruthi']\n"
     ]
    }
   ],
   "source": [
    "brand=['Maruthi','Bmw','bmw','benz','Audi','toyota','Honda']\n",
    "brand.reverse()\n",
    "print(brand)"
   ]
  },
  {
   "cell_type": "code",
   "execution_count": null,
   "metadata": {},
   "outputs": [],
   "source": [
    "# To find the length of list"
   ]
  },
  {
   "cell_type": "code",
   "execution_count": 11,
   "metadata": {},
   "outputs": [
    {
     "data": {
      "text/plain": [
       "7"
      ]
     },
     "execution_count": 11,
     "metadata": {},
     "output_type": "execute_result"
    }
   ],
   "source": [
    "len(brand)"
   ]
  },
  {
   "cell_type": "code",
   "execution_count": 12,
   "metadata": {},
   "outputs": [
    {
     "name": "stdout",
     "output_type": "stream",
     "text": [
      "5\n"
     ]
    }
   ],
   "source": [
    "a=len(brand)-2\n",
    "print(a)"
   ]
  },
  {
   "cell_type": "code",
   "execution_count": 17,
   "metadata": {},
   "outputs": [
    {
     "name": "stdout",
     "output_type": "stream",
     "text": [
      "['Honda', 'toyota', 'Audi', 'benz', 'bmw', 'Bmw', 'Maruthi', 'Hero']\n"
     ]
    },
    {
     "data": {
      "text/plain": [
       "8"
      ]
     },
     "execution_count": 17,
     "metadata": {},
     "output_type": "execute_result"
    }
   ],
   "source": [
    "brand.insert(15,'Hero')\n",
    "print(brand)\n",
    "len(brand)"
   ]
  },
  {
   "cell_type": "code",
   "execution_count": 19,
   "metadata": {},
   "outputs": [
    {
     "name": "stdout",
     "output_type": "stream",
     "text": [
      "['Honda', 'toyota', 'Audi', 'benz', 'bmw', 'Bmw', 'Maruthi', 'Hero', 'Hero']\n"
     ]
    },
    {
     "data": {
      "text/plain": [
       "9"
      ]
     },
     "execution_count": 19,
     "metadata": {},
     "output_type": "execute_result"
    }
   ],
   "source": [
    "brand.insert(15,'Hero')\n",
    "print(brand)\n",
    "len(brand)"
   ]
  },
  {
   "cell_type": "code",
   "execution_count": 15,
   "metadata": {},
   "outputs": [
    {
     "name": "stdout",
     "output_type": "stream",
     "text": [
      "['Honda', 'toyota', 'Audi', 'benz', 'bmw', 'Bmw', 'Maruthi', 'Hero']\n"
     ]
    }
   ],
   "source": [
    "brand.remove('Hero')\n",
    "print(brand)"
   ]
  },
  {
   "cell_type": "code",
   "execution_count": 16,
   "metadata": {},
   "outputs": [
    {
     "name": "stdout",
     "output_type": "stream",
     "text": [
      "['Honda', 'toyota', 'Audi', 'benz', 'bmw', 'Bmw', 'Maruthi']\n"
     ]
    }
   ],
   "source": [
    "brand.remove('Hero')\n",
    "print(brand)"
   ]
  },
  {
   "cell_type": "code",
   "execution_count": 18,
   "metadata": {},
   "outputs": [
    {
     "name": "stdout",
     "output_type": "stream",
     "text": [
      "['Honda', 'toyota', 'Audi', 'benz', 'bmw', 'Bmw', 'Maruthi', 'Hero']\n"
     ]
    }
   ],
   "source": [
    "print(brand)"
   ]
  },
  {
   "cell_type": "code",
   "execution_count": null,
   "metadata": {},
   "outputs": [],
   "source": []
  }
 ],
 "metadata": {
  "kernelspec": {
   "display_name": "Python 3",
   "language": "python",
   "name": "python3"
  },
  "language_info": {
   "codemirror_mode": {
    "name": "ipython",
    "version": 3
   },
   "file_extension": ".py",
   "mimetype": "text/x-python",
   "name": "python",
   "nbconvert_exporter": "python",
   "pygments_lexer": "ipython3",
   "version": "3.7.6"
  }
 },
 "nbformat": 4,
 "nbformat_minor": 4
}
