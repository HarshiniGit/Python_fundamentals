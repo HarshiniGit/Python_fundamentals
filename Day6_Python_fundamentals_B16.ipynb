{
 "cells": [
  {
   "cell_type": "code",
   "execution_count": null,
   "metadata": {},
   "outputs": [],
   "source": [
    "#Introduction to looing statements\n",
    "#Understanding for loop"
   ]
  },
  {
   "cell_type": "code",
   "execution_count": 1,
   "metadata": {},
   "outputs": [
    {
     "name": "stdout",
     "output_type": "stream",
     "text": [
      "['Assam', 'mizoram', 'kerala', 'Goa', 'punjab']\n"
     ]
    }
   ],
   "source": [
    "states_of_india=['Assam','mizoram','kerala','Goa','punjab']\n",
    "print(states_of_india)"
   ]
  },
  {
   "cell_type": "code",
   "execution_count": 4,
   "metadata": {},
   "outputs": [
    {
     "ename": "AttributeError",
     "evalue": "'list' object has no attribute 'title'",
     "output_type": "error",
     "traceback": [
      "\u001b[1;31m---------------------------------------------------------------------------\u001b[0m",
      "\u001b[1;31mAttributeError\u001b[0m                            Traceback (most recent call last)",
      "\u001b[1;32m<ipython-input-4-551bd5f149d4>\u001b[0m in \u001b[0;36m<module>\u001b[1;34m\u001b[0m\n\u001b[1;32m----> 1\u001b[1;33m \u001b[0mprint\u001b[0m\u001b[1;33m(\u001b[0m\u001b[0mstates_of_india\u001b[0m\u001b[1;33m.\u001b[0m\u001b[0mtitle\u001b[0m\u001b[1;33m(\u001b[0m\u001b[1;33m)\u001b[0m\u001b[1;33m)\u001b[0m\u001b[1;33m\u001b[0m\u001b[1;33m\u001b[0m\u001b[0m\n\u001b[0m",
      "\u001b[1;31mAttributeError\u001b[0m: 'list' object has no attribute 'title'"
     ]
    }
   ],
   "source": [
    "print(states_of_india.title())"
   ]
  },
  {
   "cell_type": "code",
   "execution_count": 6,
   "metadata": {},
   "outputs": [
    {
     "name": "stdout",
     "output_type": "stream",
     "text": [
      "Mizoram\n",
      "['Assam', 'mizoram', 'kerala', 'Goa', 'punjab']\n"
     ]
    }
   ],
   "source": [
    "print(states_of_india[1].title())\n",
    "print(states_of_india)"
   ]
  },
  {
   "cell_type": "code",
   "execution_count": 13,
   "metadata": {},
   "outputs": [
    {
     "name": "stdout",
     "output_type": "stream",
     "text": [
      "Assam\n",
      "mizoram\n",
      "kerala\n",
      "Goa\n",
      "punjab\n"
     ]
    }
   ],
   "source": [
    "#To split the students individually from the list\n",
    "\n",
    "for state in states_of_india:\n",
    "    print(state)"
   ]
  },
  {
   "cell_type": "code",
   "execution_count": null,
   "metadata": {},
   "outputs": [],
   "source": [
    "#General syntax of for loop\n",
    "#for tempvar in mainvar:\n",
    " #   print (tempvar)------> indentation for maintaining clean code"
   ]
  },
  {
   "cell_type": "code",
   "execution_count": 14,
   "metadata": {},
   "outputs": [
    {
     "name": "stdout",
     "output_type": "stream",
     "text": [
      "['Assam', 'mizoram', 'kerala', 'Goa', 'punjab']\n",
      "Assam\n",
      "The most beautiful state in India is Assam\n",
      "mizoram\n",
      "The most beautiful state in India is mizoram\n",
      "kerala\n",
      "The most beautiful state in India is kerala\n",
      "Goa\n",
      "The most beautiful state in India is Goa\n",
      "punjab\n",
      "The most beautiful state in India is punjab\n"
     ]
    }
   ],
   "source": [
    "states_of_india=['Assam','mizoram','kerala','Goa','punjab']\n",
    "print(states_of_india)\n",
    "for x in states_of_india:\n",
    "    print(x)\n",
    "    print(f\"The most beautiful state in India is {x}\")"
   ]
  },
  {
   "cell_type": "code",
   "execution_count": 25,
   "metadata": {},
   "outputs": [
    {
     "name": "stdout",
     "output_type": "stream",
     "text": [
      "['Assam', 'mizoram', 'kerala', 'Goa', 'punjab']\n",
      "The most beautiful city in India is in the state of Assam\n",
      "I am very excited to visit the city in Assam.\n",
      "\n",
      "The most beautiful city in India is in the state of mizoram\n",
      "I am very excited to visit the city in mizoram.\n",
      "\n",
      "The most beautiful city in India is in the state of kerala\n",
      "I am very excited to visit the city in kerala.\n",
      "\n",
      "The most beautiful city in India is in the state of Goa\n",
      "I am very excited to visit the city in Goa.\n",
      "\n",
      "The most beautiful city in India is in the state of punjab\n",
      "I am very excited to visit the city in punjab.\n",
      "\n",
      "India itself is a country with beautiful culture and Nature\n"
     ]
    }
   ],
   "source": [
    "states_of_india=['Assam','mizoram','kerala','Goa','punjab']\n",
    "print(states_of_india)\n",
    "\n",
    "for a in states_of_india:\n",
    "    print(f\"The most beautiful city in India is in the state of {a}\")\n",
    "    print(f\"I am very excited to visit the city in {a}.\\n\")\n",
    "print(f\"India itself is a country with beautiful culture and Nature\")"
   ]
  },
  {
   "cell_type": "code",
   "execution_count": 26,
   "metadata": {},
   "outputs": [
    {
     "name": "stdout",
     "output_type": "stream",
     "text": [
      "1\n",
      "2\n",
      "3\n",
      "4\n",
      "5\n",
      "6\n",
      "7\n",
      "8\n",
      "9\n",
      "10\n",
      "11\n",
      "12\n",
      "13\n",
      "14\n",
      "15\n",
      "16\n",
      "17\n",
      "18\n",
      "19\n",
      "20\n",
      "21\n",
      "22\n",
      "23\n",
      "24\n",
      "25\n",
      "26\n",
      "27\n",
      "28\n",
      "29\n"
     ]
    }
   ],
   "source": [
    "# Making a numerical list with for loop :1-30\n",
    "\n",
    "for value in range(1,30):\n",
    "    print(value)   # Range is always exclusive"
   ]
  },
  {
   "cell_type": "code",
   "execution_count": 27,
   "metadata": {},
   "outputs": [
    {
     "name": "stdout",
     "output_type": "stream",
     "text": [
      "1\n",
      "2\n",
      "3\n",
      "4\n",
      "5\n",
      "6\n",
      "7\n",
      "8\n",
      "9\n",
      "10\n",
      "11\n",
      "12\n",
      "13\n",
      "14\n",
      "15\n",
      "16\n",
      "17\n",
      "18\n",
      "19\n",
      "20\n",
      "21\n",
      "22\n",
      "23\n",
      "24\n",
      "25\n",
      "26\n",
      "27\n",
      "28\n",
      "29\n",
      "30\n"
     ]
    }
   ],
   "source": [
    "for a in range(1,31):\n",
    "    print(a)"
   ]
  },
  {
   "cell_type": "code",
   "execution_count": 28,
   "metadata": {},
   "outputs": [
    {
     "name": "stdout",
     "output_type": "stream",
     "text": [
      "[1, 2, 3, 4, 5, 6, 7, 8, 9, 10]\n"
     ]
    }
   ],
   "source": [
    "#to get numbers from 1 to 10\n",
    "numbers=list(range(1,11))\n",
    "print(numbers)"
   ]
  },
  {
   "cell_type": "code",
   "execution_count": null,
   "metadata": {},
   "outputs": [],
   "source": [
    "#to print only even numbers between 1-30"
   ]
  },
  {
   "cell_type": "code",
   "execution_count": 30,
   "metadata": {},
   "outputs": [
    {
     "name": "stdout",
     "output_type": "stream",
     "text": [
      "[2, 4, 6, 8, 10, 12, 14, 16, 18, 20, 22, 24, 26, 28, 30]\n"
     ]
    }
   ],
   "source": [
    "even_num=list(range(2,31,2))  #range accepts only 3 values\n",
    "print(even_num)"
   ]
  },
  {
   "cell_type": "code",
   "execution_count": null,
   "metadata": {},
   "outputs": [],
   "source": []
  },
  {
   "cell_type": "code",
   "execution_count": null,
   "metadata": {},
   "outputs": [],
   "source": []
  },
  {
   "cell_type": "code",
   "execution_count": null,
   "metadata": {},
   "outputs": [],
   "source": []
  },
  {
   "cell_type": "code",
   "execution_count": null,
   "metadata": {},
   "outputs": [],
   "source": []
  }
 ],
 "metadata": {
  "kernelspec": {
   "display_name": "Python 3",
   "language": "python",
   "name": "python3"
  },
  "language_info": {
   "codemirror_mode": {
    "name": "ipython",
    "version": 3
   },
   "file_extension": ".py",
   "mimetype": "text/x-python",
   "name": "python",
   "nbconvert_exporter": "python",
   "pygments_lexer": "ipython3",
   "version": "3.7.6"
  }
 },
 "nbformat": 4,
 "nbformat_minor": 4
}
