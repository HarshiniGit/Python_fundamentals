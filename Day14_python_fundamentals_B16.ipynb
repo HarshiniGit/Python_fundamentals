{
 "cells": [
  {
   "cell_type": "code",
   "execution_count": 3,
   "metadata": {},
   "outputs": [],
   "source": [
    "def formatted_name(f_name,l_name):\n",
    "    \"\"\"Return a fully formatted name\"\"\"\n",
    "    full_name = f\"{f_name} {l_name}\"\n",
    "    return full_name.title()"
   ]
  },
  {
   "cell_type": "code",
   "execution_count": 4,
   "metadata": {},
   "outputs": [
    {
     "name": "stdout",
     "output_type": "stream",
     "text": [
      "Veena Kumari\n"
     ]
    }
   ],
   "source": [
    "name = formatted_name('veena','Kumari')\n",
    "print(name)"
   ]
  },
  {
   "cell_type": "code",
   "execution_count": 5,
   "metadata": {},
   "outputs": [
    {
     "data": {
      "text/plain": [
       "'Meena Kumari'"
      ]
     },
     "execution_count": 5,
     "metadata": {},
     "output_type": "execute_result"
    }
   ],
   "source": [
    "formatted_name('meena','Kumari')"
   ]
  },
  {
   "cell_type": "code",
   "execution_count": 6,
   "metadata": {},
   "outputs": [],
   "source": [
    "#Use of return value is to control output display"
   ]
  },
  {
   "cell_type": "code",
   "execution_count": 7,
   "metadata": {},
   "outputs": [],
   "source": [
    "#Returning a Dictionary"
   ]
  },
  {
   "cell_type": "code",
   "execution_count": 8,
   "metadata": {},
   "outputs": [],
   "source": [
    "def define_person(f_name,l_name):\n",
    "    \"\"\"Return a dictionary of information\"\"\"\n",
    "    person={'first':f_name,'last':l_name}\n",
    "    return person"
   ]
  },
  {
   "cell_type": "code",
   "execution_count": 9,
   "metadata": {},
   "outputs": [
    {
     "name": "stdout",
     "output_type": "stream",
     "text": [
      "{'first': 'Harshini', 'last': 'T'}\n"
     ]
    }
   ],
   "source": [
    "person1=define_person('Harshini','T')\n",
    "print(person1)"
   ]
  },
  {
   "cell_type": "code",
   "execution_count": 11,
   "metadata": {},
   "outputs": [],
   "source": [
    "def define_person(f_name,l_name,age,DOB,place,pincode):\n",
    "    \"\"\"Return a dictionary of information\"\"\"\n",
    "    person={'first':f_name.title(),'last':l_name,'age1':age,'birth_year':DOB,'location':place,'code':pincode}\n",
    "    return person"
   ]
  },
  {
   "cell_type": "code",
   "execution_count": 13,
   "metadata": {},
   "outputs": [
    {
     "name": "stdout",
     "output_type": "stream",
     "text": [
      "{'first': 'harshiNI', 'last': 'T', 'age1': '30', 'birth_year': '1990', 'location': 'Bangalore', 'code': '560045'}\n"
     ]
    }
   ],
   "source": [
    "person2=define_person('harshiNI','T','30','1990','Bangalore','560045')\n",
    "\n",
    "print(person2)"
   ]
  },
  {
   "cell_type": "code",
   "execution_count": 14,
   "metadata": {},
   "outputs": [],
   "source": [
    "#passing list to function"
   ]
  },
  {
   "cell_type": "code",
   "execution_count": 15,
   "metadata": {},
   "outputs": [],
   "source": [
    "collegues=['Srilekha','Kasi','Ramesh','Ashok','prudhvi','Madhuri']"
   ]
  },
  {
   "cell_type": "code",
   "execution_count": 18,
   "metadata": {},
   "outputs": [],
   "source": [
    "def wish_collegues(names):\n",
    "    \"\"\"to wish new year to my collegues\"\"\"\n",
    "    for i in names:\n",
    "        message = f\"Wishing ou a great year ahead,{i.title()}\"\n",
    "        print(message)"
   ]
  },
  {
   "cell_type": "code",
   "execution_count": 19,
   "metadata": {},
   "outputs": [
    {
     "name": "stdout",
     "output_type": "stream",
     "text": [
      "Wishing ou a great year ahead,Srilekha\n",
      "Wishing ou a great year ahead,Kasi\n",
      "Wishing ou a great year ahead,Ramesh\n",
      "Wishing ou a great year ahead,Ashok\n",
      "Wishing ou a great year ahead,Prudhvi\n",
      "Wishing ou a great year ahead,Madhuri\n"
     ]
    }
   ],
   "source": [
    "wish_collegues(collegues)"
   ]
  },
  {
   "cell_type": "code",
   "execution_count": null,
   "metadata": {},
   "outputs": [],
   "source": []
  }
 ],
 "metadata": {
  "kernelspec": {
   "display_name": "Python 3",
   "language": "python",
   "name": "python3"
  },
  "language_info": {
   "codemirror_mode": {
    "name": "ipython",
    "version": 3
   },
   "file_extension": ".py",
   "mimetype": "text/x-python",
   "name": "python",
   "nbconvert_exporter": "python",
   "pygments_lexer": "ipython3",
   "version": "3.7.6"
  }
 },
 "nbformat": 4,
 "nbformat_minor": 4
}
